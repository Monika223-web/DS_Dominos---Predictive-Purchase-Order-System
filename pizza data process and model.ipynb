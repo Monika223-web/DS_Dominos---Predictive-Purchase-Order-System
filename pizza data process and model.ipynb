{
 "cells": [
  {
   "cell_type": "code",
   "execution_count": 1,
   "metadata": {
    "id": "jo2i-IgWzl1N"
   },
   "outputs": [],
   "source": [
    "import pandas as pd\n",
    "import numpy as np\n",
    "import matplotlib.pyplot as plt\n",
    "import seaborn as sns\n",
    "import warnings\n",
    "warnings.filterwarnings('ignore')"
   ]
  },
  {
   "cell_type": "code",
   "execution_count": 2,
   "metadata": {
    "id": "LZb_1gYq2NDm"
   },
   "outputs": [],
   "source": [
    "pizza_df = pd.read_csv(\"D:/Pizza_Sale - pizza_sales.csv\")\n",
    "ingred_df = pd.read_csv(\"D:/Pizza_ingredients - Pizza_ingredients.csv\")"
   ]
  },
  {
   "cell_type": "code",
   "execution_count": 3,
   "metadata": {
    "colab": {
     "base_uri": "https://localhost:8080/",
     "height": 434
    },
    "id": "wYI_0aBm2p-_",
    "outputId": "765dd113-5014-4041-bea0-63d1a587eec8"
   },
   "outputs": [
    {
     "data": {
      "text/html": [
       "<div>\n",
       "<style scoped>\n",
       "    .dataframe tbody tr th:only-of-type {\n",
       "        vertical-align: middle;\n",
       "    }\n",
       "\n",
       "    .dataframe tbody tr th {\n",
       "        vertical-align: top;\n",
       "    }\n",
       "\n",
       "    .dataframe thead th {\n",
       "        text-align: right;\n",
       "    }\n",
       "</style>\n",
       "<table border=\"1\" class=\"dataframe\">\n",
       "  <thead>\n",
       "    <tr style=\"text-align: right;\">\n",
       "      <th></th>\n",
       "      <th>pizza_id</th>\n",
       "      <th>order_id</th>\n",
       "      <th>pizza_name_id</th>\n",
       "      <th>quantity</th>\n",
       "      <th>order_date</th>\n",
       "      <th>order_time</th>\n",
       "      <th>unit_price</th>\n",
       "      <th>total_price</th>\n",
       "      <th>pizza_size</th>\n",
       "      <th>pizza_category</th>\n",
       "      <th>pizza_ingredients</th>\n",
       "      <th>pizza_name</th>\n",
       "    </tr>\n",
       "  </thead>\n",
       "  <tbody>\n",
       "    <tr>\n",
       "      <th>0</th>\n",
       "      <td>1</td>\n",
       "      <td>1</td>\n",
       "      <td>hawaiian_m</td>\n",
       "      <td>1</td>\n",
       "      <td>01-01-2015</td>\n",
       "      <td>11:38:36</td>\n",
       "      <td>13.25</td>\n",
       "      <td>13.25</td>\n",
       "      <td>M</td>\n",
       "      <td>Classic</td>\n",
       "      <td>Sliced Ham, Pineapple, Mozzarella Cheese</td>\n",
       "      <td>The Hawaiian Pizza</td>\n",
       "    </tr>\n",
       "    <tr>\n",
       "      <th>1</th>\n",
       "      <td>2</td>\n",
       "      <td>2</td>\n",
       "      <td>classic_dlx_m</td>\n",
       "      <td>1</td>\n",
       "      <td>01-01-2015</td>\n",
       "      <td>11:57:40</td>\n",
       "      <td>16.00</td>\n",
       "      <td>16.00</td>\n",
       "      <td>M</td>\n",
       "      <td>Classic</td>\n",
       "      <td>Pepperoni, Mushrooms, Red Onions, Red Peppers,...</td>\n",
       "      <td>The Classic Deluxe Pizza</td>\n",
       "    </tr>\n",
       "    <tr>\n",
       "      <th>2</th>\n",
       "      <td>3</td>\n",
       "      <td>2</td>\n",
       "      <td>five_cheese_l</td>\n",
       "      <td>1</td>\n",
       "      <td>01-01-2015</td>\n",
       "      <td>11:57:40</td>\n",
       "      <td>18.50</td>\n",
       "      <td>18.50</td>\n",
       "      <td>L</td>\n",
       "      <td>Veggie</td>\n",
       "      <td>Mozzarella Cheese, Provolone Cheese, Smoked Go...</td>\n",
       "      <td>The Five Cheese Pizza</td>\n",
       "    </tr>\n",
       "    <tr>\n",
       "      <th>3</th>\n",
       "      <td>4</td>\n",
       "      <td>2</td>\n",
       "      <td>ital_supr_l</td>\n",
       "      <td>1</td>\n",
       "      <td>01-01-2015</td>\n",
       "      <td>11:57:40</td>\n",
       "      <td>20.75</td>\n",
       "      <td>20.75</td>\n",
       "      <td>L</td>\n",
       "      <td>Supreme</td>\n",
       "      <td>Calabrese Salami, Capocollo, Tomatoes, Red Oni...</td>\n",
       "      <td>The Italian Supreme Pizza</td>\n",
       "    </tr>\n",
       "    <tr>\n",
       "      <th>4</th>\n",
       "      <td>5</td>\n",
       "      <td>2</td>\n",
       "      <td>mexicana_m</td>\n",
       "      <td>1</td>\n",
       "      <td>01-01-2015</td>\n",
       "      <td>11:57:40</td>\n",
       "      <td>16.00</td>\n",
       "      <td>16.00</td>\n",
       "      <td>M</td>\n",
       "      <td>Veggie</td>\n",
       "      <td>Tomatoes, Red Peppers, Jalapeno Peppers, Red O...</td>\n",
       "      <td>The Mexicana Pizza</td>\n",
       "    </tr>\n",
       "  </tbody>\n",
       "</table>\n",
       "</div>"
      ],
      "text/plain": [
       "   pizza_id  order_id  pizza_name_id  quantity  order_date order_time  \\\n",
       "0         1         1     hawaiian_m         1  01-01-2015   11:38:36   \n",
       "1         2         2  classic_dlx_m         1  01-01-2015   11:57:40   \n",
       "2         3         2  five_cheese_l         1  01-01-2015   11:57:40   \n",
       "3         4         2    ital_supr_l         1  01-01-2015   11:57:40   \n",
       "4         5         2     mexicana_m         1  01-01-2015   11:57:40   \n",
       "\n",
       "   unit_price  total_price pizza_size pizza_category  \\\n",
       "0       13.25        13.25          M        Classic   \n",
       "1       16.00        16.00          M        Classic   \n",
       "2       18.50        18.50          L         Veggie   \n",
       "3       20.75        20.75          L        Supreme   \n",
       "4       16.00        16.00          M         Veggie   \n",
       "\n",
       "                                   pizza_ingredients  \\\n",
       "0           Sliced Ham, Pineapple, Mozzarella Cheese   \n",
       "1  Pepperoni, Mushrooms, Red Onions, Red Peppers,...   \n",
       "2  Mozzarella Cheese, Provolone Cheese, Smoked Go...   \n",
       "3  Calabrese Salami, Capocollo, Tomatoes, Red Oni...   \n",
       "4  Tomatoes, Red Peppers, Jalapeno Peppers, Red O...   \n",
       "\n",
       "                  pizza_name  \n",
       "0         The Hawaiian Pizza  \n",
       "1   The Classic Deluxe Pizza  \n",
       "2      The Five Cheese Pizza  \n",
       "3  The Italian Supreme Pizza  \n",
       "4         The Mexicana Pizza  "
      ]
     },
     "execution_count": 3,
     "metadata": {},
     "output_type": "execute_result"
    }
   ],
   "source": [
    "pizza_df.head()"
   ]
  },
  {
   "cell_type": "code",
   "execution_count": 7,
   "metadata": {
    "colab": {
     "base_uri": "https://localhost:8080/"
    },
    "id": "OnCdIFHN-fxW",
    "outputId": "2fd82482-31de-43e5-8f79-d81a0aaabfbe"
   },
   "outputs": [
    {
     "name": "stdout",
     "output_type": "stream",
     "text": [
      "<class 'pandas.core.frame.DataFrame'>\n",
      "RangeIndex: 48620 entries, 0 to 48619\n",
      "Data columns (total 12 columns):\n",
      " #   Column             Non-Null Count  Dtype  \n",
      "---  ------             --------------  -----  \n",
      " 0   pizza_id           48620 non-null  int64  \n",
      " 1   order_id           48620 non-null  int64  \n",
      " 2   pizza_name_id      48604 non-null  object \n",
      " 3   quantity           48620 non-null  int64  \n",
      " 4   order_date         48620 non-null  object \n",
      " 5   order_time         48620 non-null  object \n",
      " 6   unit_price         48620 non-null  float64\n",
      " 7   total_price        48613 non-null  float64\n",
      " 8   pizza_size         48620 non-null  object \n",
      " 9   pizza_category     48597 non-null  object \n",
      " 10  pizza_ingredients  48607 non-null  object \n",
      " 11  pizza_name         48613 non-null  object \n",
      "dtypes: float64(2), int64(3), object(7)\n",
      "memory usage: 4.5+ MB\n"
     ]
    }
   ],
   "source": [
    "pizza_df.info()"
   ]
  },
  {
   "cell_type": "code",
   "execution_count": 9,
   "metadata": {
    "colab": {
     "base_uri": "https://localhost:8080/",
     "height": 460
    },
    "id": "qVSVZVZl-prN",
    "outputId": "82542988-4809-4875-a672-0007882f3ebf"
   },
   "outputs": [
    {
     "data": {
      "text/plain": [
       "pizza_id              0\n",
       "order_id              0\n",
       "pizza_name_id        16\n",
       "quantity              0\n",
       "order_date            0\n",
       "order_time            0\n",
       "unit_price            0\n",
       "total_price           7\n",
       "pizza_size            0\n",
       "pizza_category       23\n",
       "pizza_ingredients    13\n",
       "pizza_name            7\n",
       "dtype: int64"
      ]
     },
     "execution_count": 9,
     "metadata": {},
     "output_type": "execute_result"
    }
   ],
   "source": [
    "pizza_df.isna().sum()"
   ]
  },
  {
   "cell_type": "code",
   "execution_count": 11,
   "metadata": {
    "id": "ljX-Qlk--4Mu"
   },
   "outputs": [],
   "source": [
    "pizza_df.dropna(inplace=True)"
   ]
  },
  {
   "cell_type": "code",
   "execution_count": 13,
   "metadata": {
    "colab": {
     "base_uri": "https://localhost:8080/",
     "height": 460
    },
    "id": "vEU_MzGs_ip-",
    "outputId": "c48957ad-d418-4050-d529-d73ffcbbccae"
   },
   "outputs": [
    {
     "data": {
      "text/plain": [
       "pizza_id             0\n",
       "order_id             0\n",
       "pizza_name_id        0\n",
       "quantity             0\n",
       "order_date           0\n",
       "order_time           0\n",
       "unit_price           0\n",
       "total_price          0\n",
       "pizza_size           0\n",
       "pizza_category       0\n",
       "pizza_ingredients    0\n",
       "pizza_name           0\n",
       "dtype: int64"
      ]
     },
     "execution_count": 13,
     "metadata": {},
     "output_type": "execute_result"
    }
   ],
   "source": [
    "pizza_df.isna().sum()"
   ]
  },
  {
   "cell_type": "code",
   "execution_count": 15,
   "metadata": {
    "colab": {
     "base_uri": "https://localhost:8080/"
    },
    "id": "T_3hVhg5_2C3",
    "outputId": "8e721147-d8c3-4b82-bfa5-6e078a314747"
   },
   "outputs": [
    {
     "data": {
      "text/plain": [
       "0"
      ]
     },
     "execution_count": 15,
     "metadata": {},
     "output_type": "execute_result"
    }
   ],
   "source": [
    "pizza_df.duplicated().sum()"
   ]
  },
  {
   "cell_type": "code",
   "execution_count": 17,
   "metadata": {
    "colab": {
     "base_uri": "https://localhost:8080/"
    },
    "id": "aDijkeUO_2Bs",
    "outputId": "cff5bb5d-4de7-41a0-b971-6e4a4d021b06"
   },
   "outputs": [
    {
     "data": {
      "text/plain": [
       "(48554, 12)"
      ]
     },
     "execution_count": 17,
     "metadata": {},
     "output_type": "execute_result"
    }
   ],
   "source": [
    "pizza_df.shape"
   ]
  },
  {
   "cell_type": "code",
   "execution_count": 19,
   "metadata": {
    "id": "30D7_Le1hmjJ"
   },
   "outputs": [],
   "source": [
    "def parse_dates(date):\n",
    "  for fmt in ('%d-%m-%Y', '%d/%m/%Y'):\n",
    "    try:\n",
    "      return pd.to_datetime(date, format=fmt)\n",
    "    except ValueError:\n",
    "      pass\n",
    "  raise ValueError(f'no valid date format found for {date}')"
   ]
  },
  {
   "cell_type": "code",
   "execution_count": 21,
   "metadata": {
    "id": "98wIlk1mVg3z"
   },
   "outputs": [],
   "source": [
    "pizza_df['order_date'] = pizza_df['order_date'].apply(parse_dates)"
   ]
  },
  {
   "cell_type": "code",
   "execution_count": 23,
   "metadata": {
    "colab": {
     "base_uri": "https://localhost:8080/",
     "height": 241
    },
    "id": "qSmA3GqtVg2I",
    "outputId": "4bf90400-e8cb-455c-ce76-6431fdb30d6e"
   },
   "outputs": [
    {
     "data": {
      "text/plain": [
       "0   2015-01-01\n",
       "1   2015-01-01\n",
       "2   2015-01-01\n",
       "3   2015-01-01\n",
       "4   2015-01-01\n",
       "Name: order_date, dtype: datetime64[ns]"
      ]
     },
     "execution_count": 23,
     "metadata": {},
     "output_type": "execute_result"
    }
   ],
   "source": [
    "pizza_df['order_date'].head()"
   ]
  },
  {
   "cell_type": "code",
   "execution_count": 25,
   "metadata": {
    "colab": {
     "base_uri": "https://localhost:8080/",
     "height": 529
    },
    "id": "vCetzwy0kO_T",
    "outputId": "436071a7-8e19-4213-d12a-c909d6e0551f"
   },
   "outputs": [
    {
     "data": {
      "image/png": "[encoded data removed]",
      "text/plain": [
       "<Figure size 1000x400 with 1 Axes>"
      ]
     },
     "metadata": {},
     "output_type": "display_data"
    }
   ],
   "source": [
    "\n",
    "# Group by order date and sum the quantity\n",
    "quantity_over_time = pizza_df.groupby('order_date')['quantity'].sum()\n",
    "\n",
    "# Create the plot\n",
    "plt.figure(figsize=(10, 4))\n",
    "plt.plot(quantity_over_time.index, quantity_over_time.values)\n",
    "plt.xlabel('Order Date')\n",
    "plt.ylabel('Quantity Sold')\n",
    "plt.title('Quantity Sold Over Time')\n",
    "plt.grid(True)\n",
    "plt.show()\n"
   ]
  },
  {
   "cell_type": "markdown",
   "metadata": {
    "id": "PnEDUxXT6TMx"
   },
   "source": [
    "## Autocorrelation and partial Autocorrelation"
   ]
  },
  {
   "cell_type": "code",
   "execution_count": 28,
   "metadata": {
    "id": "NwDSHTLz6Sct"
   },
   "outputs": [],
   "source": [
    "from statsmodels.graphics.tsaplots import plot_acf, plot_pacf"
   ]
  },
  {
   "cell_type": "code",
   "execution_count": 30,
   "metadata": {
    "colab": {
     "base_uri": "https://localhost:8080/",
     "height": 657
    },
    "id": "cNAa57v26ie6",
    "outputId": "bf405e3b-7822-42e5-bade-614c3a0887d7"
   },
   "outputs": [
    {
     "data": {
      "image/png": "[encoded data removed]",
      "text/plain": [
       "<Figure size 1200x600 with 2 Axes>"
      ]
     },
     "metadata": {},
     "output_type": "display_data"
    }
   ],
   "source": [
    "fig = plt.figure(figsize=(12,6))\n",
    "ax1 = fig.add_subplot(211)\n",
    "fig = plot_acf(quantity_over_time, lags=40, ax=ax1)\n",
    "ax2 = fig.add_subplot(212)\n",
    "fig = plot_pacf(quantity_over_time, lags=40, ax=ax2)"
   ]
  },
  {
   "cell_type": "markdown",
   "metadata": {
    "id": "VtLYnaoO7sbh"
   },
   "source": [
    "P = 1\n",
    "\n",
    "q = 1\n",
    "\n",
    "d = 0"
   ]
  },
  {
   "cell_type": "markdown",
   "metadata": {
    "id": "CQOAfXBbszpN"
   },
   "source": [
    "Testing for Stationary :"
   ]
  },
  {
   "cell_type": "code",
   "execution_count": 34,
   "metadata": {
    "id": "pUMr29brnLuR"
   },
   "outputs": [],
   "source": [
    "from statsmodels.tsa.stattools import adfuller"
   ]
  },
  {
   "cell_type": "code",
   "execution_count": 36,
   "metadata": {
    "id": "L9cay5-lrwJr"
   },
   "outputs": [],
   "source": [
    "# H0: it is not stationary\n",
    "# H1: it is stationary\n",
    "\n",
    "def adf_test(sales):\n",
    "  result = adfuller(sales)\n",
    "  print('ADF Statistic: %f' % result[0])\n",
    "  print('p-value: %f' % result[1])\n",
    "  print(f'# Lags used: {result[2]}')\n",
    "  print(f'No of observations used: {result[3]}')\n",
    "  if result[1] <= 0.05:\n",
    "    print('we reject the null hypothesis, The series is stationary')\n",
    "  else:\n",
    "    print('Not enough statistical evidence to reject null hypothesis, The series is not stationary')"
   ]
  },
  {
   "cell_type": "code",
   "execution_count": 38,
   "metadata": {
    "colab": {
     "base_uri": "https://localhost:8080/"
    },
    "id": "Hn5zJHTduWHs",
    "outputId": "8f7bd1a2-2b7e-45f3-de80-b9bfa504f50a"
   },
   "outputs": [
    {
     "name": "stdout",
     "output_type": "stream",
     "text": [
      "ADF Statistic: -5.208670\n",
      "p-value: 0.000008\n",
      "# Lags used: 15\n",
      "No of observations used: 342\n",
      "we reject the null hypothesis, The series is stationary\n"
     ]
    }
   ],
   "source": [
    "adf_test(quantity_over_time)"
   ]
  },
  {
   "cell_type": "code",
   "execution_count": 40,
   "metadata": {
    "id": "Bw2dEOvVwf_m"
   },
   "outputs": [],
   "source": [
    "from statsmodels.tsa.statespace.sarimax import SARIMAX\n",
    "from statsmodels.tsa.arima.model import ARIMA\n",
    "from sklearn.metrics import mean_absolute_error, mean_squared_error"
   ]
  },
  {
   "cell_type": "code",
   "execution_count": 42,
   "metadata": {
    "id": "pLXjAjptwf-M"
   },
   "outputs": [],
   "source": [
    "eval_data = pizza_df.groupby(['order_date', 'pizza_name'])['quantity'].sum().unstack().fillna(0)"
   ]
  },
  {
   "cell_type": "code",
   "execution_count": 44,
   "metadata": {
    "colab": {
     "base_uri": "https://localhost:8080/",
     "height": 356
    },
    "id": "HVp6-sNa1g92",
    "outputId": "c6ce86ba-8018-489a-f8da-7ce7e13efb6e"
   },
   "outputs": [
    {
     "data": {
      "text/html": [
       "<div>\n",
       "<style scoped>\n",
       "    .dataframe tbody tr th:only-of-type {\n",
       "        vertical-align: middle;\n",
       "    }\n",
       "\n",
       "    .dataframe tbody tr th {\n",
       "        vertical-align: top;\n",
       "    }\n",
       "\n",
       "    .dataframe thead th {\n",
       "        text-align: right;\n",
       "    }\n",
       "</style>\n",
       "<table border=\"1\" class=\"dataframe\">\n",
       "  <thead>\n",
       "    <tr style=\"text-align: right;\">\n",
       "      <th>pizza_name</th>\n",
       "      <th>The Barbecue Chicken Pizza</th>\n",
       "      <th>The Big Meat Pizza</th>\n",
       "      <th>The Brie Carre Pizza</th>\n",
       "      <th>The Calabrese Pizza</th>\n",
       "      <th>The California Chicken Pizza</th>\n",
       "      <th>The Chicken Alfredo Pizza</th>\n",
       "      <th>The Chicken Pesto Pizza</th>\n",
       "      <th>The Classic Deluxe Pizza</th>\n",
       "      <th>The Five Cheese Pizza</th>\n",
       "      <th>The Four Cheese Pizza</th>\n",
       "      <th>...</th>\n",
       "      <th>The Prosciutto and Arugula Pizza</th>\n",
       "      <th>The Sicilian Pizza</th>\n",
       "      <th>The Soppressata Pizza</th>\n",
       "      <th>The Southwest Chicken Pizza</th>\n",
       "      <th>The Spicy Italian Pizza</th>\n",
       "      <th>The Spinach Pesto Pizza</th>\n",
       "      <th>The Spinach Supreme Pizza</th>\n",
       "      <th>The Spinach and Feta Pizza</th>\n",
       "      <th>The Thai Chicken Pizza</th>\n",
       "      <th>The Vegetables + Vegetables Pizza</th>\n",
       "    </tr>\n",
       "    <tr>\n",
       "      <th>order_date</th>\n",
       "      <th></th>\n",
       "      <th></th>\n",
       "      <th></th>\n",
       "      <th></th>\n",
       "      <th></th>\n",
       "      <th></th>\n",
       "      <th></th>\n",
       "      <th></th>\n",
       "      <th></th>\n",
       "      <th></th>\n",
       "      <th></th>\n",
       "      <th></th>\n",
       "      <th></th>\n",
       "      <th></th>\n",
       "      <th></th>\n",
       "      <th></th>\n",
       "      <th></th>\n",
       "      <th></th>\n",
       "      <th></th>\n",
       "      <th></th>\n",
       "      <th></th>\n",
       "    </tr>\n",
       "  </thead>\n",
       "  <tbody>\n",
       "    <tr>\n",
       "      <th>2015-01-01</th>\n",
       "      <td>11.0</td>\n",
       "      <td>5.0</td>\n",
       "      <td>0.0</td>\n",
       "      <td>1.0</td>\n",
       "      <td>4.0</td>\n",
       "      <td>2.0</td>\n",
       "      <td>4.0</td>\n",
       "      <td>10.0</td>\n",
       "      <td>6.0</td>\n",
       "      <td>5.0</td>\n",
       "      <td>...</td>\n",
       "      <td>4.0</td>\n",
       "      <td>4.0</td>\n",
       "      <td>0.0</td>\n",
       "      <td>7.0</td>\n",
       "      <td>5.0</td>\n",
       "      <td>2.0</td>\n",
       "      <td>5.0</td>\n",
       "      <td>2.0</td>\n",
       "      <td>7.0</td>\n",
       "      <td>3.0</td>\n",
       "    </tr>\n",
       "    <tr>\n",
       "      <th>2015-01-02</th>\n",
       "      <td>8.0</td>\n",
       "      <td>8.0</td>\n",
       "      <td>0.0</td>\n",
       "      <td>0.0</td>\n",
       "      <td>5.0</td>\n",
       "      <td>1.0</td>\n",
       "      <td>2.0</td>\n",
       "      <td>6.0</td>\n",
       "      <td>6.0</td>\n",
       "      <td>3.0</td>\n",
       "      <td>...</td>\n",
       "      <td>4.0</td>\n",
       "      <td>6.0</td>\n",
       "      <td>4.0</td>\n",
       "      <td>6.0</td>\n",
       "      <td>11.0</td>\n",
       "      <td>2.0</td>\n",
       "      <td>7.0</td>\n",
       "      <td>4.0</td>\n",
       "      <td>9.0</td>\n",
       "      <td>5.0</td>\n",
       "    </tr>\n",
       "    <tr>\n",
       "      <th>2015-01-03</th>\n",
       "      <td>7.0</td>\n",
       "      <td>8.0</td>\n",
       "      <td>0.0</td>\n",
       "      <td>1.0</td>\n",
       "      <td>11.0</td>\n",
       "      <td>5.0</td>\n",
       "      <td>3.0</td>\n",
       "      <td>5.0</td>\n",
       "      <td>4.0</td>\n",
       "      <td>7.0</td>\n",
       "      <td>...</td>\n",
       "      <td>7.0</td>\n",
       "      <td>6.0</td>\n",
       "      <td>1.0</td>\n",
       "      <td>5.0</td>\n",
       "      <td>4.0</td>\n",
       "      <td>3.0</td>\n",
       "      <td>2.0</td>\n",
       "      <td>2.0</td>\n",
       "      <td>9.0</td>\n",
       "      <td>7.0</td>\n",
       "    </tr>\n",
       "    <tr>\n",
       "      <th>2015-01-04</th>\n",
       "      <td>9.0</td>\n",
       "      <td>0.0</td>\n",
       "      <td>2.0</td>\n",
       "      <td>2.0</td>\n",
       "      <td>5.0</td>\n",
       "      <td>4.0</td>\n",
       "      <td>1.0</td>\n",
       "      <td>4.0</td>\n",
       "      <td>2.0</td>\n",
       "      <td>4.0</td>\n",
       "      <td>...</td>\n",
       "      <td>4.0</td>\n",
       "      <td>3.0</td>\n",
       "      <td>0.0</td>\n",
       "      <td>1.0</td>\n",
       "      <td>4.0</td>\n",
       "      <td>3.0</td>\n",
       "      <td>4.0</td>\n",
       "      <td>3.0</td>\n",
       "      <td>5.0</td>\n",
       "      <td>1.0</td>\n",
       "    </tr>\n",
       "    <tr>\n",
       "      <th>2015-01-05</th>\n",
       "      <td>2.0</td>\n",
       "      <td>3.0</td>\n",
       "      <td>2.0</td>\n",
       "      <td>0.0</td>\n",
       "      <td>6.0</td>\n",
       "      <td>8.0</td>\n",
       "      <td>2.0</td>\n",
       "      <td>9.0</td>\n",
       "      <td>5.0</td>\n",
       "      <td>4.0</td>\n",
       "      <td>...</td>\n",
       "      <td>2.0</td>\n",
       "      <td>5.0</td>\n",
       "      <td>2.0</td>\n",
       "      <td>3.0</td>\n",
       "      <td>2.0</td>\n",
       "      <td>4.0</td>\n",
       "      <td>2.0</td>\n",
       "      <td>2.0</td>\n",
       "      <td>6.0</td>\n",
       "      <td>2.0</td>\n",
       "    </tr>\n",
       "  </tbody>\n",
       "</table>\n",
       "<p>5 rows × 32 columns</p>\n",
       "</div>"
      ],
      "text/plain": [
       "pizza_name  The Barbecue Chicken Pizza  The Big Meat Pizza  \\\n",
       "order_date                                                   \n",
       "2015-01-01                        11.0                 5.0   \n",
       "2015-01-02                         8.0                 8.0   \n",
       "2015-01-03                         7.0                 8.0   \n",
       "2015-01-04                         9.0                 0.0   \n",
       "2015-01-05                         2.0                 3.0   \n",
       "\n",
       "pizza_name  The Brie Carre Pizza  The Calabrese Pizza  \\\n",
       "order_date                                              \n",
       "2015-01-01                   0.0                  1.0   \n",
       "2015-01-02                   0.0                  0.0   \n",
       "2015-01-03                   0.0                  1.0   \n",
       "2015-01-04                   2.0                  2.0   \n",
       "2015-01-05                   2.0                  0.0   \n",
       "\n",
       "pizza_name  The California Chicken Pizza  The Chicken Alfredo Pizza  \\\n",
       "order_date                                                            \n",
       "2015-01-01                           4.0                        2.0   \n",
       "2015-01-02                           5.0                        1.0   \n",
       "2015-01-03                          11.0                        5.0   \n",
       "2015-01-04                           5.0                        4.0   \n",
       "2015-01-05                           6.0                        8.0   \n",
       "\n",
       "pizza_name  The Chicken Pesto Pizza  The Classic Deluxe Pizza  \\\n",
       "order_date                                                      \n",
       "2015-01-01                      4.0                      10.0   \n",
       "2015-01-02                      2.0                       6.0   \n",
       "2015-01-03                      3.0                       5.0   \n",
       "2015-01-04                      1.0                       4.0   \n",
       "2015-01-05                      2.0                       9.0   \n",
       "\n",
       "pizza_name  The Five Cheese Pizza  The Four Cheese Pizza  ...  \\\n",
       "order_date                                                ...   \n",
       "2015-01-01                    6.0                    5.0  ...   \n",
       "2015-01-02                    6.0                    3.0  ...   \n",
       "2015-01-03                    4.0                    7.0  ...   \n",
       "2015-01-04                    2.0                    4.0  ...   \n",
       "2015-01-05                    5.0                    4.0  ...   \n",
       "\n",
       "pizza_name  The Prosciutto and Arugula Pizza  The Sicilian Pizza  \\\n",
       "order_date                                                         \n",
       "2015-01-01                               4.0                 4.0   \n",
       "2015-01-02                               4.0                 6.0   \n",
       "2015-01-03                               7.0                 6.0   \n",
       "2015-01-04                               4.0                 3.0   \n",
       "2015-01-05                               2.0                 5.0   \n",
       "\n",
       "pizza_name  The Soppressata Pizza  The Southwest Chicken Pizza  \\\n",
       "order_date                                                       \n",
       "2015-01-01                    0.0                          7.0   \n",
       "2015-01-02                    4.0                          6.0   \n",
       "2015-01-03                    1.0                          5.0   \n",
       "2015-01-04                    0.0                          1.0   \n",
       "2015-01-05                    2.0                          3.0   \n",
       "\n",
       "pizza_name  The Spicy Italian Pizza  The Spinach Pesto Pizza  \\\n",
       "order_date                                                     \n",
       "2015-01-01                      5.0                      2.0   \n",
       "2015-01-02                     11.0                      2.0   \n",
       "2015-01-03                      4.0                      3.0   \n",
       "2015-01-04                      4.0                      3.0   \n",
       "2015-01-05                      2.0                      4.0   \n",
       "\n",
       "pizza_name  The Spinach Supreme Pizza  The Spinach and Feta Pizza  \\\n",
       "order_date                                                          \n",
       "2015-01-01                        5.0                         2.0   \n",
       "2015-01-02                        7.0                         4.0   \n",
       "2015-01-03                        2.0                         2.0   \n",
       "2015-01-04                        4.0                         3.0   \n",
       "2015-01-05                        2.0                         2.0   \n",
       "\n",
       "pizza_name  The Thai Chicken Pizza  The Vegetables + Vegetables Pizza  \n",
       "order_date                                                             \n",
       "2015-01-01                     7.0                                3.0  \n",
       "2015-01-02                     9.0                                5.0  \n",
       "2015-01-03                     9.0                                7.0  \n",
       "2015-01-04                     5.0                                1.0  \n",
       "2015-01-05                     6.0                                2.0  \n",
       "\n",
       "[5 rows x 32 columns]"
      ]
     },
     "execution_count": 44,
     "metadata": {},
     "output_type": "execute_result"
    }
   ],
   "source": [
    "eval_data.head()"
   ]
  },
  {
   "cell_type": "code",
   "execution_count": 46,
   "metadata": {
    "id": "zIWIOUp91p-I"
   },
   "outputs": [],
   "source": [
    "one_pizza = eval_data['The Barbecue Chicken Pizza']"
   ]
  },
  {
   "cell_type": "code",
   "execution_count": 48,
   "metadata": {
    "id": "lREcnh2r3DY6"
   },
   "outputs": [],
   "source": [
    "# split train and test\n",
    "train = one_pizza[:-7]\n",
    "test = one_pizza[-7:]"
   ]
  },
  {
   "cell_type": "code",
   "execution_count": 50,
   "metadata": {
    "colab": {
     "base_uri": "https://localhost:8080/"
    },
    "id": "G2rz0Mu2AVYC",
    "outputId": "8e97ff1d-01ed-465d-f288-ef0fe1e5ecd5"
   },
   "outputs": [
    {
     "name": "stderr",
     "output_type": "stream",
     "text": [
      "C:\\Users\\arock\\anaconda3\\Lib\\site-packages\\statsmodels\\tsa\\base\\tsa_model.py:473: ValueWarning: A date index has been provided, but it has no associated frequency information and so will be ignored when e.g. forecasting.\n",
      "  self._init_dates(dates, freq)\n",
      "C:\\Users\\arock\\anaconda3\\Lib\\site-packages\\statsmodels\\tsa\\base\\tsa_model.py:473: ValueWarning: A date index has been provided, but it has no associated frequency information and so will be ignored when e.g. forecasting.\n",
      "  self._init_dates(dates, freq)\n",
      "C:\\Users\\arock\\anaconda3\\Lib\\site-packages\\statsmodels\\tsa\\base\\tsa_model.py:473: ValueWarning: A date index has been provided, but it has no associated frequency information and so will be ignored when e.g. forecasting.\n",
      "  self._init_dates(dates, freq)\n"
     ]
    }
   ],
   "source": [
    "# Fit Arima model\n",
    "ari_model = ARIMA(train, order=(1, 1, 0))\n",
    "ari_result = ari_model.fit()"
   ]
  },
  {
   "cell_type": "code",
   "execution_count": 52,
   "metadata": {
    "colab": {
     "base_uri": "https://localhost:8080/"
    },
    "id": "ItBfD0ITVvec",
    "outputId": "f6ad4f47-bbd0-4c34-da57-348bead2cbba"
   },
   "outputs": [
    {
     "name": "stderr",
     "output_type": "stream",
     "text": [
      "C:\\Users\\arock\\anaconda3\\Lib\\site-packages\\statsmodels\\tsa\\base\\tsa_model.py:836: ValueWarning: No supported index is available. Prediction results will be given with an integer index beginning at `start`.\n",
      "  return get_prediction_index(\n"
     ]
    }
   ],
   "source": [
    "# forecast\n",
    "ari_forecast = ari_result.get_forecast(steps=len(test))\n",
    "ari_fore_values = ari_forecast.predicted_mean"
   ]
  },
  {
   "cell_type": "code",
   "execution_count": 54,
   "metadata": {
    "colab": {
     "base_uri": "https://localhost:8080/"
    },
    "id": "1Uwwp83yePJt",
    "outputId": "8fdd78ba-c487-4b37-d28b-14acfcc297ee"
   },
   "outputs": [
    {
     "name": "stderr",
     "output_type": "stream",
     "text": [
      "C:\\Users\\arock\\anaconda3\\Lib\\site-packages\\statsmodels\\tsa\\base\\tsa_model.py:836: ValueWarning: No supported index is available. Prediction results will be given with an integer index beginning at `start`.\n",
      "  return get_prediction_index(\n"
     ]
    }
   ],
   "source": [
    "ari_predict = ari_result.predict(start=len(train), end=len(train)+len(test)-1, dynamic=True)"
   ]
  },
  {
   "cell_type": "code",
   "execution_count": 56,
   "metadata": {
    "id": "lJz3a-BUuLap"
   },
   "outputs": [],
   "source": [
    "ari_predict.index = test.index"
   ]
  },
  {
   "cell_type": "code",
   "execution_count": 58,
   "metadata": {
    "colab": {
     "base_uri": "https://localhost:8080/",
     "height": 300
    },
    "id": "xpM55aNblU0O",
    "outputId": "69feb73a-7a29-4ab2-fc55-89c9526ed98b"
   },
   "outputs": [
    {
     "data": {
      "text/html": [
       "<div>\n",
       "<style scoped>\n",
       "    .dataframe tbody tr th:only-of-type {\n",
       "        vertical-align: middle;\n",
       "    }\n",
       "\n",
       "    .dataframe tbody tr th {\n",
       "        vertical-align: top;\n",
       "    }\n",
       "\n",
       "    .dataframe thead th {\n",
       "        text-align: right;\n",
       "    }\n",
       "</style>\n",
       "<table border=\"1\" class=\"dataframe\">\n",
       "  <thead>\n",
       "    <tr style=\"text-align: right;\">\n",
       "      <th></th>\n",
       "      <th>Actual</th>\n",
       "      <th>Predicted</th>\n",
       "    </tr>\n",
       "    <tr>\n",
       "      <th>order_date</th>\n",
       "      <th></th>\n",
       "      <th></th>\n",
       "    </tr>\n",
       "  </thead>\n",
       "  <tbody>\n",
       "    <tr>\n",
       "      <th>2015-12-24</th>\n",
       "      <td>4.0</td>\n",
       "      <td>4.970012</td>\n",
       "    </tr>\n",
       "    <tr>\n",
       "      <th>2015-12-26</th>\n",
       "      <td>5.0</td>\n",
       "      <td>5.500450</td>\n",
       "    </tr>\n",
       "    <tr>\n",
       "      <th>2015-12-27</th>\n",
       "      <td>4.0</td>\n",
       "      <td>5.227277</td>\n",
       "    </tr>\n",
       "    <tr>\n",
       "      <th>2015-12-28</th>\n",
       "      <td>2.0</td>\n",
       "      <td>5.367959</td>\n",
       "    </tr>\n",
       "    <tr>\n",
       "      <th>2015-12-29</th>\n",
       "      <td>4.0</td>\n",
       "      <td>5.295509</td>\n",
       "    </tr>\n",
       "    <tr>\n",
       "      <th>2015-12-30</th>\n",
       "      <td>6.0</td>\n",
       "      <td>5.332820</td>\n",
       "    </tr>\n",
       "    <tr>\n",
       "      <th>2015-12-31</th>\n",
       "      <td>10.0</td>\n",
       "      <td>5.313605</td>\n",
       "    </tr>\n",
       "  </tbody>\n",
       "</table>\n",
       "</div>"
      ],
      "text/plain": [
       "            Actual  Predicted\n",
       "order_date                   \n",
       "2015-12-24     4.0   4.970012\n",
       "2015-12-26     5.0   5.500450\n",
       "2015-12-27     4.0   5.227277\n",
       "2015-12-28     2.0   5.367959\n",
       "2015-12-29     4.0   5.295509\n",
       "2015-12-30     6.0   5.332820\n",
       "2015-12-31    10.0   5.313605"
      ]
     },
     "execution_count": 58,
     "metadata": {},
     "output_type": "execute_result"
    }
   ],
   "source": [
    "# concat test and ari_predict without changing the index of test, test is a pandas series\n",
    "\n",
    "concatenated_series = pd.concat([test, ari_predict], axis=1)\n",
    "concatenated_series.columns = ['Actual', 'Predicted']\n",
    "concatenated_series"
   ]
  },
  {
   "cell_type": "code",
   "execution_count": 60,
   "metadata": {
    "colab": {
     "base_uri": "https://localhost:8080/",
     "height": 519
    },
    "id": "YOfFI5Vlm0Ub",
    "outputId": "85da5768-8cc5-47ea-e7e8-bac08f0bb1d4"
   },
   "outputs": [
    {
     "data": {
      "image/png": "[encoded data removed]",
      "text/plain": [
       "<Figure size 1000x400 with 1 Axes>"
      ]
     },
     "metadata": {},
     "output_type": "display_data"
    }
   ],
   "source": [
    "concatenated_series.plot(figsize=(10, 4))\n",
    "plt.xlabel('Order Date')\n",
    "plt.ylabel('Quantity Sold')\n",
    "plt.title('Actual vs. Predicted Quantity Sold for \"The Barbecue Chicken Pizza\"')\n",
    "plt.show()"
   ]
  },
  {
   "cell_type": "code",
   "execution_count": 62,
   "metadata": {
    "colab": {
     "base_uri": "https://localhost:8080/"
    },
    "id": "f-4hdJAdWcV0",
    "outputId": "640b0d49-1dec-46f2-ac4b-d7f5cd552b5b"
   },
   "outputs": [
    {
     "name": "stdout",
     "output_type": "stream",
     "text": [
      "ARIMA MAE: 1.8163972889981264\n",
      "ARIMA MSE: 5.44664286323234\n",
      "ARIMA RMSE: 2.333804375527722\n"
     ]
    }
   ],
   "source": [
    "# Evaluate the model\n",
    "mae = mean_absolute_error(test, ari_fore_values)\n",
    "mse = mean_squared_error(test, ari_fore_values)\n",
    "rmse = np.sqrt(mse)\n",
    "\n",
    "print(f'ARIMA MAE: {mae}')\n",
    "print(f'ARIMA MSE: {mse}')\n",
    "print(f'ARIMA RMSE: {rmse}')"
   ]
  },
  {
   "cell_type": "code",
   "execution_count": 64,
   "metadata": {
    "colab": {
     "base_uri": "https://localhost:8080/"
    },
    "id": "Br3V9dUIW3ai",
    "outputId": "fa125421-7a09-4ea8-a26a-71ce14866f2b"
   },
   "outputs": [
    {
     "name": "stderr",
     "output_type": "stream",
     "text": [
      "C:\\Users\\arock\\anaconda3\\Lib\\site-packages\\statsmodels\\tsa\\base\\tsa_model.py:473: ValueWarning: A date index has been provided, but it has no associated frequency information and so will be ignored when e.g. forecasting.\n",
      "  self._init_dates(dates, freq)\n",
      "C:\\Users\\arock\\anaconda3\\Lib\\site-packages\\statsmodels\\tsa\\base\\tsa_model.py:473: ValueWarning: A date index has been provided, but it has no associated frequency information and so will be ignored when e.g. forecasting.\n",
      "  self._init_dates(dates, freq)\n"
     ]
    }
   ],
   "source": [
    "# fit SARIMA model\n",
    "sari_model = SARIMAX(train, order=(1, 1, 1), seasonal_order=(1, 1, 1, 7))\n",
    "sari_result = sari_model.fit()"
   ]
  },
  {
   "cell_type": "code",
   "execution_count": 66,
   "metadata": {
    "colab": {
     "base_uri": "https://localhost:8080/"
    },
    "id": "WmkxQYbeXL-x",
    "outputId": "31bd3e88-454e-4493-92aa-5da3e2bf5143"
   },
   "outputs": [
    {
     "name": "stderr",
     "output_type": "stream",
     "text": [
      "C:\\Users\\arock\\anaconda3\\Lib\\site-packages\\statsmodels\\tsa\\base\\tsa_model.py:836: ValueWarning: No supported index is available. Prediction results will be given with an integer index beginning at `start`.\n",
      "  return get_prediction_index(\n"
     ]
    }
   ],
   "source": [
    "# sarima forecast\n",
    "sari_forecast = sari_result.get_forecast(steps=len(test))\n",
    "sari_fore_values = sari_forecast.predicted_mean"
   ]
  },
  {
   "cell_type": "code",
   "execution_count": 68,
   "metadata": {
    "colab": {
     "base_uri": "https://localhost:8080/"
    },
    "id": "2cs4lOTaXZhi",
    "outputId": "1f8c3e02-db98-49da-8e7d-1643b1001deb"
   },
   "outputs": [
    {
     "name": "stdout",
     "output_type": "stream",
     "text": [
      "SARIMAX MAE: 2.575639489896236\n",
      "SARIMAX MSE: 8.296350603750628\n",
      "SARIMAX RMSE: 2.8803386265768522\n"
     ]
    }
   ],
   "source": [
    "# Evaluate Sarima\n",
    "mae = mean_absolute_error(test, sari_fore_values)\n",
    "mse = mean_squared_error(test, sari_fore_values)\n",
    "rmse = np.sqrt(mse)\n",
    "\n",
    "print(f'SARIMAX MAE: {mae}')\n",
    "print(f'SARIMAX MSE: {mse}')\n",
    "print(f'SARIMAX RMSE: {rmse}')"
   ]
  },
  {
   "cell_type": "code",
   "execution_count": 70,
   "metadata": {
    "colab": {
     "base_uri": "https://localhost:8080/"
    },
    "id": "2tHy_igbnm8I",
    "outputId": "ed46f911-7432-4d17-c926-519dd924cd48"
   },
   "outputs": [
    {
     "name": "stderr",
     "output_type": "stream",
     "text": [
      "C:\\Users\\arock\\anaconda3\\Lib\\site-packages\\statsmodels\\tsa\\base\\tsa_model.py:836: ValueWarning: No supported index is available. Prediction results will be given with an integer index beginning at `start`.\n",
      "  return get_prediction_index(\n"
     ]
    }
   ],
   "source": [
    "sari_predict = sari_result.predict(start=len(train), end=len(train)+len(test)-1, dynamic=True)"
   ]
  },
  {
   "cell_type": "code",
   "execution_count": 72,
   "metadata": {
    "id": "nEk3p4rgtcBt"
   },
   "outputs": [],
   "source": [
    "sari_predict.index = test.index"
   ]
  },
  {
   "cell_type": "code",
   "execution_count": 74,
   "metadata": {
    "colab": {
     "base_uri": "https://localhost:8080/",
     "height": 335
    },
    "id": "M14RHEQhtmwZ",
    "outputId": "8917a6b1-3bb8-4eb6-c33c-6f0dc94d3f89"
   },
   "outputs": [
    {
     "data": {
      "text/plain": [
       "order_date\n",
       "2015-12-24    7.277229\n",
       "2015-12-26    7.484309\n",
       "2015-12-27    5.526882\n",
       "2015-12-28    6.338664\n",
       "2015-12-29    6.738425\n",
       "2015-12-30    5.870332\n",
       "2015-12-31    6.465700\n",
       "Name: predicted_mean, dtype: float64"
      ]
     },
     "execution_count": 74,
     "metadata": {},
     "output_type": "execute_result"
    }
   ],
   "source": [
    "sari_predict"
   ]
  },
  {
   "cell_type": "code",
   "execution_count": 76,
   "metadata": {
    "colab": {
     "base_uri": "https://localhost:8080/",
     "height": 300
    },
    "id": "8r48b4KHoAJH",
    "outputId": "04e6aa11-dbe7-4b37-996e-40012dbee70f"
   },
   "outputs": [
    {
     "data": {
      "text/html": [
       "<div>\n",
       "<style scoped>\n",
       "    .dataframe tbody tr th:only-of-type {\n",
       "        vertical-align: middle;\n",
       "    }\n",
       "\n",
       "    .dataframe tbody tr th {\n",
       "        vertical-align: top;\n",
       "    }\n",
       "\n",
       "    .dataframe thead th {\n",
       "        text-align: right;\n",
       "    }\n",
       "</style>\n",
       "<table border=\"1\" class=\"dataframe\">\n",
       "  <thead>\n",
       "    <tr style=\"text-align: right;\">\n",
       "      <th></th>\n",
       "      <th>Actual</th>\n",
       "      <th>Predicted</th>\n",
       "    </tr>\n",
       "    <tr>\n",
       "      <th>order_date</th>\n",
       "      <th></th>\n",
       "      <th></th>\n",
       "    </tr>\n",
       "  </thead>\n",
       "  <tbody>\n",
       "    <tr>\n",
       "      <th>2015-12-24</th>\n",
       "      <td>4.0</td>\n",
       "      <td>7.277229</td>\n",
       "    </tr>\n",
       "    <tr>\n",
       "      <th>2015-12-26</th>\n",
       "      <td>5.0</td>\n",
       "      <td>7.484309</td>\n",
       "    </tr>\n",
       "    <tr>\n",
       "      <th>2015-12-27</th>\n",
       "      <td>4.0</td>\n",
       "      <td>5.526882</td>\n",
       "    </tr>\n",
       "    <tr>\n",
       "      <th>2015-12-28</th>\n",
       "      <td>2.0</td>\n",
       "      <td>6.338664</td>\n",
       "    </tr>\n",
       "    <tr>\n",
       "      <th>2015-12-29</th>\n",
       "      <td>4.0</td>\n",
       "      <td>6.738425</td>\n",
       "    </tr>\n",
       "    <tr>\n",
       "      <th>2015-12-30</th>\n",
       "      <td>6.0</td>\n",
       "      <td>5.870332</td>\n",
       "    </tr>\n",
       "    <tr>\n",
       "      <th>2015-12-31</th>\n",
       "      <td>10.0</td>\n",
       "      <td>6.465700</td>\n",
       "    </tr>\n",
       "  </tbody>\n",
       "</table>\n",
       "</div>"
      ],
      "text/plain": [
       "            Actual  Predicted\n",
       "order_date                   \n",
       "2015-12-24     4.0   7.277229\n",
       "2015-12-26     5.0   7.484309\n",
       "2015-12-27     4.0   5.526882\n",
       "2015-12-28     2.0   6.338664\n",
       "2015-12-29     4.0   6.738425\n",
       "2015-12-30     6.0   5.870332\n",
       "2015-12-31    10.0   6.465700"
      ]
     },
     "execution_count": 76,
     "metadata": {},
     "output_type": "execute_result"
    }
   ],
   "source": [
    "concatenated_sarima = pd.concat([test, sari_predict] , axis=1)\n",
    "concatenated_sarima.columns = ['Actual', 'Predicted']\n",
    "concatenated_sarima"
   ]
  },
  {
   "cell_type": "code",
   "execution_count": 78,
   "metadata": {
    "colab": {
     "base_uri": "https://localhost:8080/",
     "height": 519
    },
    "id": "-DGSrNG1uAvC",
    "outputId": "a301fc14-2af7-4df6-902c-20c1ce8384f1"
   },
   "outputs": [
    {
     "data": {
      "image/png": "[encoded data removed]",
      "text/plain": [
       "<Figure size 1000x400 with 1 Axes>"
      ]
     },
     "metadata": {},
     "output_type": "display_data"
    }
   ],
   "source": [
    "concatenated_sarima.plot(figsize=(10, 4))\n",
    "plt.xlabel('Order Date')\n",
    "plt.ylabel('Quantity Sold')\n",
    "plt.title('Actual vs. Predicted Quantity Sold for \"The Barbecue Chicken Pizza\"')\n",
    "plt.show()"
   ]
  },
  {
   "cell_type": "markdown",
   "metadata": {
    "id": "3poTuWaUrC1T"
   },
   "source": [
    "Prophet Evaluation"
   ]
  },
  {
   "cell_type": "code",
   "execution_count": 81,
   "metadata": {
    "colab": {
     "base_uri": "https://localhost:8080/"
    },
    "id": "_tNw4SEovtYK",
    "outputId": "064fcb8e-6c4f-40a0-991a-55c7ad7699e5"
   },
   "outputs": [
    {
     "name": "stdout",
     "output_type": "stream",
     "text": [
      "Collecting prophet\n",
      "  Downloading prophet-1.1.6-py3-none-win_amd64.whl.metadata (3.6 kB)\n",
      "Collecting cmdstanpy>=1.0.4 (from prophet)\n",
      "  Downloading cmdstanpy-1.2.5-py3-none-any.whl.metadata (4.0 kB)\n",
      "Requirement already satisfied: numpy>=1.15.4 in c:\\users\\arock\\anaconda3\\lib\\site-packages (from prophet) (1.26.4)\n",
      "Requirement already satisfied: matplotlib>=2.0.0 in c:\\users\\arock\\anaconda3\\lib\\site-packages (from prophet) (3.8.4)\n",
      "Requirement already satisfied: pandas>=1.0.4 in c:\\users\\arock\\anaconda3\\lib\\site-packages (from prophet) (2.2.2)\n",
      "Collecting holidays<1,>=0.25 (from prophet)\n",
      "  Downloading holidays-0.63-py3-none-any.whl.metadata (26 kB)\n",
      "Requirement already satisfied: tqdm>=4.36.1 in c:\\users\\arock\\anaconda3\\lib\\site-packages (from prophet) (4.66.4)\n",
      "Collecting importlib-resources (from prophet)\n",
      "  Downloading importlib_resources-6.4.5-py3-none-any.whl.metadata (4.0 kB)\n",
      "Collecting stanio<2.0.0,>=0.4.0 (from cmdstanpy>=1.0.4->prophet)\n",
      "  Downloading stanio-0.5.1-py3-none-any.whl.metadata (1.6 kB)\n",
      "Requirement already satisfied: python-dateutil in c:\\users\\arock\\anaconda3\\lib\\site-packages (from holidays<1,>=0.25->prophet) (2.9.0.post0)\n",
      "Requirement already satisfied: contourpy>=1.0.1 in c:\\users\\arock\\anaconda3\\lib\\site-packages (from matplotlib>=2.0.0->prophet) (1.2.0)\n",
      "Requirement already satisfied: cycler>=0.10 in c:\\users\\arock\\anaconda3\\lib\\site-packages (from matplotlib>=2.0.0->prophet) (0.11.0)\n",
      "Requirement already satisfied: fonttools>=4.22.0 in c:\\users\\arock\\anaconda3\\lib\\site-packages (from matplotlib>=2.0.0->prophet) (4.51.0)\n",
      "Requirement already satisfied: kiwisolver>=1.3.1 in c:\\users\\arock\\anaconda3\\lib\\site-packages (from matplotlib>=2.0.0->prophet) (1.4.4)\n",
      "Requirement already satisfied: packaging>=20.0 in c:\\users\\arock\\anaconda3\\lib\\site-packages (from matplotlib>=2.0.0->prophet) (23.2)\n",
      "Requirement already satisfied: pillow>=8 in c:\\users\\arock\\anaconda3\\lib\\site-packages (from matplotlib>=2.0.0->prophet) (10.3.0)\n",
      "Requirement already satisfied: pyparsing>=2.3.1 in c:\\users\\arock\\anaconda3\\lib\\site-packages (from matplotlib>=2.0.0->prophet) (3.0.9)\n",
      "Requirement already satisfied: pytz>=2020.1 in c:\\users\\arock\\anaconda3\\lib\\site-packages (from pandas>=1.0.4->prophet) (2024.1)\n",
      "Requirement already satisfied: tzdata>=2022.7 in c:\\users\\arock\\anaconda3\\lib\\site-packages (from pandas>=1.0.4->prophet) (2023.3)\n",
      "Requirement already satisfied: colorama in c:\\users\\arock\\anaconda3\\lib\\site-packages (from tqdm>=4.36.1->prophet) (0.4.6)\n",
      "Requirement already satisfied: six>=1.5 in c:\\users\\arock\\anaconda3\\lib\\site-packages (from python-dateutil->holidays<1,>=0.25->prophet) (1.16.0)\n",
      "Downloading prophet-1.1.6-py3-none-win_amd64.whl (13.3 MB)\n",
      "   ---------------------------------------- 0.0/13.3 MB ? eta -:--:--\n",
      "    --------------------------------------- 0.3/13.3 MB 5.9 MB/s eta 0:00:03\n",
      "   -- ------------------------------------- 0.9/13.3 MB 9.4 MB/s eta 0:00:02\n",
      "   ---- ----------------------------------- 1.6/13.3 MB 11.5 MB/s eta 0:00:02\n",
      "   ------- -------------------------------- 2.4/13.3 MB 12.5 MB/s eta 0:00:01\n",
      "   --------- ------------------------------ 3.2/13.3 MB 13.6 MB/s eta 0:00:01\n",
      "   ----------- ---------------------------- 3.9/13.3 MB 13.8 MB/s eta 0:00:01\n",
      "   ------------- -------------------------- 4.5/13.3 MB 13.6 MB/s eta 0:00:01\n",
      "   --------------- ------------------------ 5.1/13.3 MB 13.7 MB/s eta 0:00:01\n",
      "   ----------------- ---------------------- 5.9/13.3 MB 13.6 MB/s eta 0:00:01\n",
      "   -------------------- ------------------- 6.7/13.3 MB 14.2 MB/s eta 0:00:01\n",
      "   --------------------- ------------------ 7.2/13.3 MB 13.9 MB/s eta 0:00:01\n",
      "   ---------------------- ----------------- 7.4/13.3 MB 13.6 MB/s eta 0:00:01\n",
      "   ----------------------- ---------------- 7.9/13.3 MB 13.2 MB/s eta 0:00:01\n",
      "   ------------------------ --------------- 8.3/13.3 MB 12.9 MB/s eta 0:00:01\n",
      "   -------------------------- ------------- 8.9/13.3 MB 13.2 MB/s eta 0:00:01\n",
      "   ---------------------------- ----------- 9.5/13.3 MB 12.9 MB/s eta 0:00:01\n",
      "   ------------------------------ --------- 10.1/13.3 MB 13.0 MB/s eta 0:00:01\n",
      "   -------------------------------- ------- 10.8/13.3 MB 13.4 MB/s eta 0:00:01\n",
      "   ---------------------------------- ----- 11.5/13.3 MB 13.4 MB/s eta 0:00:01\n",
      "   ------------------------------------ --- 12.1/13.3 MB 13.4 MB/s eta 0:00:01\n",
      "   -------------------------------------- - 12.8/13.3 MB 13.4 MB/s eta 0:00:01\n",
      "   ---------------------------------------  13.3/13.3 MB 13.1 MB/s eta 0:00:01\n",
      "   ---------------------------------------- 13.3/13.3 MB 12.8 MB/s eta 0:00:00\n",
      "Downloading cmdstanpy-1.2.5-py3-none-any.whl (94 kB)\n",
      "   ---------------------------------------- 0.0/94.5 kB ? eta -:--:--\n",
      "   ---------------------------------------- 94.5/94.5 kB 5.6 MB/s eta 0:00:00\n",
      "Downloading holidays-0.63-py3-none-any.whl (1.2 MB)\n",
      "   ---------------------------------------- 0.0/1.2 MB ? eta -:--:--\n",
      "   ------------- -------------------------- 0.4/1.2 MB 25.3 MB/s eta 0:00:01\n",
      "   ---------------------------------------  1.2/1.2 MB 18.8 MB/s eta 0:00:01\n",
      "   ---------------------------------------- 1.2/1.2 MB 15.0 MB/s eta 0:00:00\n",
      "Downloading importlib_resources-6.4.5-py3-none-any.whl (36 kB)\n",
      "Downloading stanio-0.5.1-py3-none-any.whl (8.1 kB)\n",
      "Installing collected packages: stanio, importlib-resources, holidays, cmdstanpy, prophet\n",
      "Successfully installed cmdstanpy-1.2.5 holidays-0.63 importlib-resources-6.4.5 prophet-1.1.6 stanio-0.5.1\n",
      "Note: you may need to restart the kernel to use updated packages.\n"
     ]
    }
   ],
   "source": [
    "pip install prophet"
   ]
  },
  {
   "cell_type": "code",
   "execution_count": 82,
   "metadata": {
    "id": "gyJpzs27vy_e"
   },
   "outputs": [],
   "source": [
    "from prophet import Prophet"
   ]
  },
  {
   "cell_type": "code",
   "execution_count": 85,
   "metadata": {
    "colab": {
     "base_uri": "https://localhost:8080/",
     "height": 206
    },
    "id": "Tdne1y0NrBJv",
    "outputId": "7fc19a23-133f-49a8-bf4f-66e89588e8f2"
   },
   "outputs": [
    {
     "data": {
      "text/html": [
       "<div>\n",
       "<style scoped>\n",
       "    .dataframe tbody tr th:only-of-type {\n",
       "        vertical-align: middle;\n",
       "    }\n",
       "\n",
       "    .dataframe tbody tr th {\n",
       "        vertical-align: top;\n",
       "    }\n",
       "\n",
       "    .dataframe thead th {\n",
       "        text-align: right;\n",
       "    }\n",
       "</style>\n",
       "<table border=\"1\" class=\"dataframe\">\n",
       "  <thead>\n",
       "    <tr style=\"text-align: right;\">\n",
       "      <th></th>\n",
       "      <th>ds</th>\n",
       "      <th>y</th>\n",
       "    </tr>\n",
       "  </thead>\n",
       "  <tbody>\n",
       "    <tr>\n",
       "      <th>0</th>\n",
       "      <td>2015-01-01</td>\n",
       "      <td>11.0</td>\n",
       "    </tr>\n",
       "    <tr>\n",
       "      <th>1</th>\n",
       "      <td>2015-01-02</td>\n",
       "      <td>8.0</td>\n",
       "    </tr>\n",
       "    <tr>\n",
       "      <th>2</th>\n",
       "      <td>2015-01-03</td>\n",
       "      <td>7.0</td>\n",
       "    </tr>\n",
       "    <tr>\n",
       "      <th>3</th>\n",
       "      <td>2015-01-04</td>\n",
       "      <td>9.0</td>\n",
       "    </tr>\n",
       "    <tr>\n",
       "      <th>4</th>\n",
       "      <td>2015-01-05</td>\n",
       "      <td>2.0</td>\n",
       "    </tr>\n",
       "  </tbody>\n",
       "</table>\n",
       "</div>"
      ],
      "text/plain": [
       "          ds     y\n",
       "0 2015-01-01  11.0\n",
       "1 2015-01-02   8.0\n",
       "2 2015-01-03   7.0\n",
       "3 2015-01-04   9.0\n",
       "4 2015-01-05   2.0"
      ]
     },
     "execution_count": 85,
     "metadata": {},
     "output_type": "execute_result"
    }
   ],
   "source": [
    "one_pizza_prophet = pd.DataFrame({'ds': one_pizza.index, 'y': one_pizza.values})\n",
    "\n",
    "one_pizza_prophet.head()"
   ]
  },
  {
   "cell_type": "code",
   "execution_count": 87,
   "metadata": {
    "id": "toOnqBEXs_9H"
   },
   "outputs": [],
   "source": [
    "# one_pizza_prophet.set_index('ds', inplace=True)\n",
    "\n",
    "# split train and test\n",
    "pr_train = one_pizza_prophet[:-7]\n",
    "pr_test = one_pizza_prophet[-7:]"
   ]
  },
  {
   "cell_type": "code",
   "execution_count": 89,
   "metadata": {
    "colab": {
     "base_uri": "https://localhost:8080/"
    },
    "id": "2WvtJOqLvq6G",
    "outputId": "870c4afd-82db-4c4d-b111-21dff7963bc7"
   },
   "outputs": [
    {
     "name": "stderr",
     "output_type": "stream",
     "text": [
      "20:01:28 - cmdstanpy - INFO - Chain [1] start processing\n",
      "20:01:29 - cmdstanpy - INFO - Chain [1] done processing\n"
     ]
    },
    {
     "data": {
      "text/plain": [
       "<prophet.forecaster.Prophet at 0x1a6915ed550>"
      ]
     },
     "execution_count": 89,
     "metadata": {},
     "output_type": "execute_result"
    }
   ],
   "source": [
    "# fit model prophet\n",
    "pr_model = Prophet()\n",
    "pr_model.fit(pr_train)"
   ]
  },
  {
   "cell_type": "code",
   "execution_count": 91,
   "metadata": {
    "id": "nemybJ7Sv_Tg"
   },
   "outputs": [],
   "source": [
    "# forcast for one week\n",
    "pr_future = pr_model.make_future_dataframe(periods=7, freq='D')\n",
    "pr_forecast = pr_model.predict(pr_future)"
   ]
  },
  {
   "cell_type": "code",
   "execution_count": 93,
   "metadata": {
    "id": "gHIJuFdzwQBh"
   },
   "outputs": [],
   "source": [
    "# extract forecast values\n",
    "pr_forecast_values = pr_forecast['yhat'][-len(pr_test):].values"
   ]
  },
  {
   "cell_type": "code",
   "execution_count": 95,
   "metadata": {
    "colab": {
     "base_uri": "https://localhost:8080/"
    },
    "id": "gDn6kEe3w2oa",
    "outputId": "8f01d84c-ab0e-4dc9-9067-db6fa342cd9d"
   },
   "outputs": [
    {
     "name": "stdout",
     "output_type": "stream",
     "text": [
      "prophet MAE: 2.7041506900698473\n",
      "prophet MSE: 8.559382223271792\n",
      "prophet RMSE: 2.925642189891271\n"
     ]
    }
   ],
   "source": [
    "# Evaluate the model\n",
    "mae = mean_absolute_error(pr_test['y'], pr_forecast_values)\n",
    "mse = mean_squared_error(pr_test['y'], pr_forecast_values)\n",
    "rmse = np.sqrt(mse)\n",
    "\n",
    "print(f'prophet MAE: {mae}')\n",
    "print(f'prophet MSE: {mse}')\n",
    "print(f'prophet RMSE: {rmse}')"
   ]
  },
  {
   "cell_type": "code",
   "execution_count": 97,
   "metadata": {
    "colab": {
     "base_uri": "https://localhost:8080/",
     "height": 300
    },
    "id": "I8FFN5q5yiGH",
    "outputId": "5daca61b-6bbf-433a-8d16-615ff6320edf"
   },
   "outputs": [
    {
     "data": {
      "text/html": [
       "<div>\n",
       "<style scoped>\n",
       "    .dataframe tbody tr th:only-of-type {\n",
       "        vertical-align: middle;\n",
       "    }\n",
       "\n",
       "    .dataframe tbody tr th {\n",
       "        vertical-align: top;\n",
       "    }\n",
       "\n",
       "    .dataframe thead th {\n",
       "        text-align: right;\n",
       "    }\n",
       "</style>\n",
       "<table border=\"1\" class=\"dataframe\">\n",
       "  <thead>\n",
       "    <tr style=\"text-align: right;\">\n",
       "      <th></th>\n",
       "      <th>Actual</th>\n",
       "      <th>Predicted</th>\n",
       "    </tr>\n",
       "    <tr>\n",
       "      <th>date</th>\n",
       "      <th></th>\n",
       "      <th></th>\n",
       "    </tr>\n",
       "  </thead>\n",
       "  <tbody>\n",
       "    <tr>\n",
       "      <th>2015-12-24</th>\n",
       "      <td>4.0</td>\n",
       "      <td>6.713469</td>\n",
       "    </tr>\n",
       "    <tr>\n",
       "      <th>2015-12-26</th>\n",
       "      <td>5.0</td>\n",
       "      <td>7.613496</td>\n",
       "    </tr>\n",
       "    <tr>\n",
       "      <th>2015-12-27</th>\n",
       "      <td>4.0</td>\n",
       "      <td>6.970675</td>\n",
       "    </tr>\n",
       "    <tr>\n",
       "      <th>2015-12-28</th>\n",
       "      <td>2.0</td>\n",
       "      <td>5.363001</td>\n",
       "    </tr>\n",
       "    <tr>\n",
       "      <th>2015-12-29</th>\n",
       "      <td>4.0</td>\n",
       "      <td>6.916402</td>\n",
       "    </tr>\n",
       "    <tr>\n",
       "      <th>2015-12-30</th>\n",
       "      <td>6.0</td>\n",
       "      <td>5.774931</td>\n",
       "    </tr>\n",
       "    <tr>\n",
       "      <th>2015-12-31</th>\n",
       "      <td>10.0</td>\n",
       "      <td>5.873058</td>\n",
       "    </tr>\n",
       "  </tbody>\n",
       "</table>\n",
       "</div>"
      ],
      "text/plain": [
       "            Actual  Predicted\n",
       "date                         \n",
       "2015-12-24     4.0   6.713469\n",
       "2015-12-26     5.0   7.613496\n",
       "2015-12-27     4.0   6.970675\n",
       "2015-12-28     2.0   5.363001\n",
       "2015-12-29     4.0   6.916402\n",
       "2015-12-30     6.0   5.774931\n",
       "2015-12-31    10.0   5.873058"
      ]
     },
     "execution_count": 97,
     "metadata": {},
     "output_type": "execute_result"
    }
   ],
   "source": [
    "concat_prophet = pd.concat([pr_test, pr_forecast[['yhat']].iloc[-len(pr_test):]], axis=1)\n",
    "concat_prophet.columns = ['date','Actual', 'Predicted']\n",
    "concat_prophet.set_index('date', inplace=True)\n",
    "concat_prophet"
   ]
  },
  {
   "cell_type": "code",
   "execution_count": 99,
   "metadata": {
    "colab": {
     "base_uri": "https://localhost:8080/",
     "height": 519
    },
    "id": "dp4V8nKbzd9H",
    "outputId": "05b41597-fb66-4a43-b1e4-bc6242f12627"
   },
   "outputs": [
    {
     "data": {
      "image/png": "[encoded data removed]",
      "text/plain": [
       "<Figure size 1000x400 with 1 Axes>"
      ]
     },
     "metadata": {},
     "output_type": "display_data"
    }
   ],
   "source": [
    "# visualize forecast\n",
    "concat_prophet.plot(figsize=(10, 4))\n",
    "plt.xlabel('Order Date')\n",
    "plt.ylabel('Quantity Sold')\n",
    "plt.title('Actual vs. Predicted Quantity Sold for \"The Barbecue Chicken Pizza\"')\n",
    "plt.show()"
   ]
  },
  {
   "cell_type": "code",
   "execution_count": null,
   "metadata": {},
   "outputs": [],
   "source": []
  }
 ],
 "metadata": {
  "colab": {
   "provenance": []
  },
  "kernelspec": {
   "display_name": "Python 3 (ipykernel)",
   "language": "python",
   "name": "python3"
  },
  "language_info": {
   "codemirror_mode": {
    "name": "ipython",
    "version": 3
   },
   "file_extension": ".py",
   "mimetype": "text/x-python",
   "name": "python",
   "nbconvert_exporter": "python",
   "pygments_lexer": "ipython3",
   "version": "3.12.4"
  }
 },
 "nbformat": 4,
 "nbformat_minor": 4
}
